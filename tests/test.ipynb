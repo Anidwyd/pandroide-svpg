{
 "cells": [
  {
   "cell_type": "code",
   "execution_count": 2,
   "metadata": {},
   "outputs": [
    {
     "name": "stderr",
     "output_type": "stream",
     "text": [
      "WARNING (theano.tensor.blas): Using NumPy C-API based implementation for BLAS functions.\n"
     ]
    }
   ],
   "source": [
    "import datetime\n",
    "import os\n",
    "import torch\n",
    "\n",
    "from omegaconf import OmegaConf\n",
    "import cProfile, pstats\n",
    "\n",
    "from svpg.algos import A2C"
   ]
  },
  {
   "cell_type": "code",
   "execution_count": 4,
   "metadata": {},
   "outputs": [],
   "source": [
    "\n",
    "dtime = datetime.datetime.now().strftime(\"/%y-%m-%d/%H-%M-%S/\")\n",
    "params = {\n",
    "    \"save_best\": True,\n",
    "    \"logger\": {\n",
    "        \"classname\": \"salina.logger.TFLogger\",\n",
    "        \"log_dir\": \"./tmp/\" + dtime,\n",
    "        \"verbose\": True,\n",
    "        \"cache_size\": 10000,\n",
    "        \"every_n_seconds\": 10,\n",
    "    },\n",
    "    \"algorithm\": {\n",
    "        \"n_particles\": 16,\n",
    "        \"seed\": 5,\n",
    "        \"n_envs\": 1,\n",
    "        \"n_steps\": 10000,\n",
    "        \"eval_interval\": 99,\n",
    "        \"n_evals\": 1,\n",
    "        \"clipped\": True,\n",
    "        \"max_epochs\": 2,\n",
    "        \"discount_factor\": 0.95,\n",
    "        \"policy_coef\": 0.1,\n",
    "        \"critic_coef\": 1.0,\n",
    "        \"entropy_coef\": 1e-3,\n",
    "        \"architecture\": {\"hidden_size\": [100, 50, 25]},\n",
    "    },\n",
    "    \"gym_env\": {\n",
    "        \"classname\": \"svpg.agents.env.make_gym_env\",\n",
    "        \"env_name\": \"MyCartPole-v0\",\n",
    "    },\n",
    "    \"optimizer\": {\"classname\": \"torch.optim.Adam\", \"lr\": 5e-3},\n",
    "}\n",
    "\n",
    "config = OmegaConf.create(params)\n"
   ]
  },
  {
   "cell_type": "code",
   "execution_count": 15,
   "metadata": {},
   "outputs": [],
   "source": [
    "from salina import get_arguments"
   ]
  },
  {
   "cell_type": "code",
   "execution_count": 34,
   "metadata": {},
   "outputs": [],
   "source": [
    "def get_params(**kwargs):\n",
    "    params = get_arguments(config.gym_env) | kwargs\n",
    "    return params\n"
   ]
  },
  {
   "cell_type": "code",
   "execution_count": 35,
   "metadata": {},
   "outputs": [
    {
     "data": {
      "text/plain": [
       "{'env_name': 'MyCartPole-v0', 'wrap_reward': False}"
      ]
     },
     "execution_count": 35,
     "metadata": {},
     "output_type": "execute_result"
    }
   ],
   "source": [
    "get_params(wrap_reward=False)"
   ]
  },
  {
   "cell_type": "code",
   "execution_count": 13,
   "metadata": {},
   "outputs": [
    {
     "data": {
      "text/plain": [
       "{'wrap_reward': False,\n",
       " 'classname': 'svpg.agents.env.make_gym_env',\n",
       " 'env_name': 'MyCartPole-v0'}"
      ]
     },
     "execution_count": 13,
     "metadata": {},
     "output_type": "execute_result"
    }
   ],
   "source": [
    "params = {\"wrap_reward\": False}\n",
    "params.update(config.gym_env)\n",
    "params"
   ]
  }
 ],
 "metadata": {
  "interpreter": {
   "hash": "5a75615412e03e428e9a4c18cf4b9987160155d6a7443ebff4cfd9f3aaed23f2"
  },
  "kernelspec": {
   "display_name": "Python 3.9.9 64-bit",
   "language": "python",
   "name": "python3"
  },
  "language_info": {
   "codemirror_mode": {
    "name": "ipython",
    "version": 3
   },
   "file_extension": ".py",
   "mimetype": "text/x-python",
   "name": "python",
   "nbconvert_exporter": "python",
   "pygments_lexer": "ipython3",
   "version": "3.9.9"
  },
  "orig_nbformat": 4
 },
 "nbformat": 4,
 "nbformat_minor": 2
}
