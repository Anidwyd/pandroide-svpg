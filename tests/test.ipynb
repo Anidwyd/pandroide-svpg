{
 "cells": [
  {
   "cell_type": "code",
   "execution_count": 6,
   "metadata": {},
   "outputs": [],
   "source": [
    "from itertools import permutations"
   ]
  },
  {
   "cell_type": "code",
   "execution_count": 7,
   "metadata": {},
   "outputs": [
    {
     "name": "stdout",
     "output_type": "stream",
     "text": [
      "0 1\n",
      "0 2\n",
      "0 3\n",
      "1 0\n",
      "1 2\n",
      "1 3\n",
      "2 0\n",
      "2 1\n",
      "2 3\n",
      "3 0\n",
      "3 1\n",
      "3 2\n"
     ]
    }
   ],
   "source": [
    "for i,j in list(permutations(range(4), 2)):\n",
    "    print(i,j)"
   ]
  },
  {
   "cell_type": "code",
   "execution_count": 1,
   "metadata": {},
   "outputs": [],
   "source": [
    "import torch as th\n",
    "import torch.nn as nn\n",
    "from torch.nn.utils import parameters_to_vector"
   ]
  },
  {
   "cell_type": "code",
   "execution_count": 13,
   "metadata": {},
   "outputs": [
    {
     "data": {
      "text/plain": [
       "[Parameter containing:\n",
       " tensor([[-0.1449, -0.4023],\n",
       "         [ 0.1169, -0.4974],\n",
       "         [-0.4563, -0.1452]], requires_grad=True),\n",
       " Parameter containing:\n",
       " tensor([-0.5411,  0.2825,  0.2986], requires_grad=True),\n",
       " Parameter containing:\n",
       " tensor([[0.4828, 0.2428, 0.3273]], requires_grad=True),\n",
       " Parameter containing:\n",
       " tensor([-0.0014], requires_grad=True)]"
      ]
     },
     "execution_count": 13,
     "metadata": {},
     "output_type": "execute_result"
    }
   ],
   "source": [
    "model = nn.Sequential(\n",
    "        nn.Linear(2, 3),\n",
    "        nn.ReLU(),\n",
    "        nn.Linear(3, 1)\n",
    "    )\n",
    "l = list(model.parameters())\n",
    "l"
   ]
  },
  {
   "cell_type": "code",
   "execution_count": 14,
   "metadata": {},
   "outputs": [],
   "source": [
    "\n",
    "l_flatten = [th.flatten(p) for p in l]\n",
    "l_flatten = tuple(l_flatten)\n",
    "l_concat = th.cat(l_flatten)\n",
    "l_concat"
   ]
  },
  {
   "cell_type": "code",
   "execution_count": 11,
   "metadata": {},
   "outputs": [
    {
     "data": {
      "text/plain": [
       "tensor([-0.6803,  0.1259,  0.3251,  0.4099, -0.3818, -0.1896, -0.5102,  0.1751,\n",
       "        -0.3098, -0.2782,  0.0561, -0.2422,  0.4611], grad_fn=<CatBackward0>)"
      ]
     },
     "execution_count": 11,
     "metadata": {},
     "output_type": "execute_result"
    }
   ],
   "source": [
    "nn.utils.parameters_to_vector(model.parameters())"
   ]
  }
 ],
 "metadata": {
  "interpreter": {
   "hash": "89e649af5cc535be01307bbf28f6d989ed34956b91dbd298a04e0be1da293714"
  },
  "kernelspec": {
   "display_name": "Python 3.9.9 64-bit",
   "language": "python",
   "name": "python3"
  },
  "language_info": {
   "codemirror_mode": {
    "name": "ipython",
    "version": 3
   },
   "file_extension": ".py",
   "mimetype": "text/x-python",
   "name": "python",
   "nbconvert_exporter": "python",
   "pygments_lexer": "ipython3",
   "version": "3.9.9"
  },
  "orig_nbformat": 4
 },
 "nbformat": 4,
 "nbformat_minor": 2
}
