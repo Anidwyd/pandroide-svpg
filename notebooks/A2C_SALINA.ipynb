{
  "cells": [
    {
      "cell_type": "markdown",
      "metadata": {
        "id": "dYfGJCe52lP4"
      },
      "source": [
        "## Outlook"
      ]
    },
    {
      "cell_type": "markdown",
      "metadata": {
        "id": "aZUSf0n_2otG"
      },
      "source": [
        "In this colab we give a detailed documentation of a version of the A2C algorithm using SaLinA, so as to better understand the inner mechanisms."
      ]
    },
    {
      "cell_type": "markdown",
      "metadata": {
        "id": "aHO1nIdM21Lq"
      },
      "source": [
        "### Installation"
      ]
    },
    {
      "cell_type": "markdown",
      "metadata": {
        "id": "Ymc-lbXi9vDE"
      },
      "source": [
        "The SaLinA library is [here](https://github.com/facebookresearch/salina)."
      ]
    },
    {
      "cell_type": "code",
      "execution_count": 4,
      "metadata": {
        "colab": {
          "base_uri": "https://localhost:8080/"
        },
        "id": "j0MaggiOl4KU",
        "outputId": "e9e44e59-d762-482f-c593-956b22ef34f4"
      },
      "outputs": [
        {
          "name": "stdout",
          "output_type": "stream",
          "text": [
            "Requirement already satisfied: gym==0.21.0 in /home/khiemlk17/anaconda3/envs/ml/lib/python3.7/site-packages (0.21.0)\n",
            "Requirement already satisfied: cloudpickle>=1.2.0 in /home/khiemlk17/anaconda3/envs/ml/lib/python3.7/site-packages (from gym==0.21.0) (2.0.0)\n",
            "Requirement already satisfied: importlib-metadata>=4.8.1 in /home/khiemlk17/anaconda3/envs/ml/lib/python3.7/site-packages (from gym==0.21.0) (4.11.1)\n",
            "Requirement already satisfied: numpy>=1.18.0 in /home/khiemlk17/anaconda3/envs/ml/lib/python3.7/site-packages (from gym==0.21.0) (1.21.5)\n",
            "Requirement already satisfied: typing-extensions>=3.6.4 in /home/khiemlk17/anaconda3/envs/ml/lib/python3.7/site-packages (from importlib-metadata>=4.8.1->gym==0.21.0) (4.1.1)\n",
            "Requirement already satisfied: zipp>=0.5 in /home/khiemlk17/anaconda3/envs/ml/lib/python3.7/site-packages (from importlib-metadata>=4.8.1->gym==0.21.0) (3.7.0)\n",
            "Note: you may need to restart the kernel to use updated packages.\n",
            "Collecting git+https://github.com/facebookresearch/salina.git@main\n",
            "  Cloning https://github.com/facebookresearch/salina.git (to revision main) to /tmp/pip-req-build-aa2nevyc\n",
            "  Running command git clone --filter=blob:none --quiet https://github.com/facebookresearch/salina.git /tmp/pip-req-build-aa2nevyc\n",
            "  Resolved https://github.com/facebookresearch/salina.git to commit ec9d114a5a0d79157430f59ac89a9171f5c67f35\n",
            "  Preparing metadata (setup.py) ... \u001b[?25ldone\n",
            "\u001b[?25hRequirement already satisfied: torch>=1.9.0 in /home/khiemlk17/anaconda3/envs/ml/lib/python3.7/site-packages (from salina==1.0) (1.10.2)\n",
            "Requirement already satisfied: torchvision in /home/khiemlk17/anaconda3/envs/ml/lib/python3.7/site-packages (from salina==1.0) (0.11.3)\n",
            "Requirement already satisfied: gym>=0.21.0 in /home/khiemlk17/anaconda3/envs/ml/lib/python3.7/site-packages (from salina==1.0) (0.21.0)\n",
            "Requirement already satisfied: tensorboard in /home/khiemlk17/anaconda3/envs/ml/lib/python3.7/site-packages (from salina==1.0) (2.8.0)\n",
            "Requirement already satisfied: tqdm in /home/khiemlk17/anaconda3/envs/ml/lib/python3.7/site-packages (from salina==1.0) (4.62.3)\n",
            "Requirement already satisfied: hydra-core in /home/khiemlk17/anaconda3/envs/ml/lib/python3.7/site-packages (from salina==1.0) (1.1.1)\n",
            "Requirement already satisfied: numpy in /home/khiemlk17/anaconda3/envs/ml/lib/python3.7/site-packages (from salina==1.0) (1.21.5)\n",
            "Requirement already satisfied: pandas in /home/khiemlk17/anaconda3/envs/ml/lib/python3.7/site-packages (from salina==1.0) (1.3.5)\n",
            "Requirement already satisfied: opencv-python in /home/khiemlk17/anaconda3/envs/ml/lib/python3.7/site-packages (from salina==1.0) (4.5.5.62)\n",
            "Requirement already satisfied: pygame in /home/khiemlk17/anaconda3/envs/ml/lib/python3.7/site-packages (from salina==1.0) (2.1.2)\n",
            "Requirement already satisfied: xformers>=0.0.3 in /home/khiemlk17/anaconda3/envs/ml/lib/python3.7/site-packages (from salina==1.0) (0.0.8)\n",
            "Requirement already satisfied: importlib-metadata>=4.8.1 in /home/khiemlk17/anaconda3/envs/ml/lib/python3.7/site-packages (from gym>=0.21.0->salina==1.0) (4.11.1)\n",
            "Requirement already satisfied: cloudpickle>=1.2.0 in /home/khiemlk17/anaconda3/envs/ml/lib/python3.7/site-packages (from gym>=0.21.0->salina==1.0) (2.0.0)\n",
            "Requirement already satisfied: typing-extensions in /home/khiemlk17/anaconda3/envs/ml/lib/python3.7/site-packages (from torch>=1.9.0->salina==1.0) (4.1.1)\n",
            "Requirement already satisfied: pyre-extensions==0.0.23 in /home/khiemlk17/anaconda3/envs/ml/lib/python3.7/site-packages (from xformers>=0.0.3->salina==1.0) (0.0.23)\n",
            "Requirement already satisfied: typing-inspect in /home/khiemlk17/anaconda3/envs/ml/lib/python3.7/site-packages (from pyre-extensions==0.0.23->xformers>=0.0.3->salina==1.0) (0.7.1)\n",
            "Requirement already satisfied: importlib-resources in /home/khiemlk17/anaconda3/envs/ml/lib/python3.7/site-packages (from hydra-core->salina==1.0) (5.4.0)\n",
            "Requirement already satisfied: antlr4-python3-runtime==4.8 in /home/khiemlk17/anaconda3/envs/ml/lib/python3.7/site-packages (from hydra-core->salina==1.0) (4.8)\n",
            "Requirement already satisfied: omegaconf==2.1.* in /home/khiemlk17/anaconda3/envs/ml/lib/python3.7/site-packages (from hydra-core->salina==1.0) (2.1.1)\n",
            "Requirement already satisfied: PyYAML>=5.1.0 in /home/khiemlk17/anaconda3/envs/ml/lib/python3.7/site-packages (from omegaconf==2.1.*->hydra-core->salina==1.0) (6.0)\n",
            "Requirement already satisfied: python-dateutil>=2.7.3 in /home/khiemlk17/anaconda3/envs/ml/lib/python3.7/site-packages (from pandas->salina==1.0) (2.8.2)\n",
            "Requirement already satisfied: pytz>=2017.3 in /home/khiemlk17/anaconda3/envs/ml/lib/python3.7/site-packages (from pandas->salina==1.0) (2021.3)\n",
            "Requirement already satisfied: google-auth-oauthlib<0.5,>=0.4.1 in /home/khiemlk17/anaconda3/envs/ml/lib/python3.7/site-packages (from tensorboard->salina==1.0) (0.4.6)\n",
            "Requirement already satisfied: google-auth<3,>=1.6.3 in /home/khiemlk17/anaconda3/envs/ml/lib/python3.7/site-packages (from tensorboard->salina==1.0) (2.6.0)\n",
            "Requirement already satisfied: setuptools>=41.0.0 in /home/khiemlk17/anaconda3/envs/ml/lib/python3.7/site-packages (from tensorboard->salina==1.0) (60.9.3)\n",
            "Requirement already satisfied: tensorboard-plugin-wit>=1.6.0 in /home/khiemlk17/anaconda3/envs/ml/lib/python3.7/site-packages (from tensorboard->salina==1.0) (1.8.1)\n",
            "Requirement already satisfied: grpcio>=1.24.3 in /home/khiemlk17/anaconda3/envs/ml/lib/python3.7/site-packages (from tensorboard->salina==1.0) (1.44.0)\n",
            "Requirement already satisfied: requests<3,>=2.21.0 in /home/khiemlk17/anaconda3/envs/ml/lib/python3.7/site-packages (from tensorboard->salina==1.0) (2.27.1)\n",
            "Requirement already satisfied: markdown>=2.6.8 in /home/khiemlk17/anaconda3/envs/ml/lib/python3.7/site-packages (from tensorboard->salina==1.0) (3.3.6)\n",
            "Requirement already satisfied: werkzeug>=0.11.15 in /home/khiemlk17/anaconda3/envs/ml/lib/python3.7/site-packages (from tensorboard->salina==1.0) (2.0.3)\n",
            "Requirement already satisfied: protobuf>=3.6.0 in /home/khiemlk17/anaconda3/envs/ml/lib/python3.7/site-packages (from tensorboard->salina==1.0) (3.19.4)\n",
            "Requirement already satisfied: absl-py>=0.4 in /home/khiemlk17/anaconda3/envs/ml/lib/python3.7/site-packages (from tensorboard->salina==1.0) (1.0.0)\n",
            "Requirement already satisfied: wheel>=0.26 in /home/khiemlk17/anaconda3/envs/ml/lib/python3.7/site-packages (from tensorboard->salina==1.0) (0.37.1)\n",
            "Requirement already satisfied: tensorboard-data-server<0.7.0,>=0.6.0 in /home/khiemlk17/anaconda3/envs/ml/lib/python3.7/site-packages (from tensorboard->salina==1.0) (0.6.0)\n",
            "Requirement already satisfied: pillow!=8.3.0,>=5.3.0 in /home/khiemlk17/anaconda3/envs/ml/lib/python3.7/site-packages (from torchvision->salina==1.0) (9.0.1)\n",
            "Requirement already satisfied: six in /home/khiemlk17/anaconda3/envs/ml/lib/python3.7/site-packages (from absl-py>=0.4->tensorboard->salina==1.0) (1.16.0)\n",
            "Requirement already satisfied: cachetools<6.0,>=2.0.0 in /home/khiemlk17/anaconda3/envs/ml/lib/python3.7/site-packages (from google-auth<3,>=1.6.3->tensorboard->salina==1.0) (5.0.0)\n",
            "Requirement already satisfied: rsa<5,>=3.1.4 in /home/khiemlk17/anaconda3/envs/ml/lib/python3.7/site-packages (from google-auth<3,>=1.6.3->tensorboard->salina==1.0) (4.8)\n",
            "Requirement already satisfied: pyasn1-modules>=0.2.1 in /home/khiemlk17/anaconda3/envs/ml/lib/python3.7/site-packages (from google-auth<3,>=1.6.3->tensorboard->salina==1.0) (0.2.7)\n",
            "Requirement already satisfied: requests-oauthlib>=0.7.0 in /home/khiemlk17/anaconda3/envs/ml/lib/python3.7/site-packages (from google-auth-oauthlib<0.5,>=0.4.1->tensorboard->salina==1.0) (1.3.1)\n",
            "Requirement already satisfied: zipp>=0.5 in /home/khiemlk17/anaconda3/envs/ml/lib/python3.7/site-packages (from importlib-metadata>=4.8.1->gym>=0.21.0->salina==1.0) (3.7.0)\n",
            "Requirement already satisfied: certifi>=2017.4.17 in /home/khiemlk17/anaconda3/envs/ml/lib/python3.7/site-packages (from requests<3,>=2.21.0->tensorboard->salina==1.0) (2021.10.8)\n",
            "Requirement already satisfied: charset-normalizer~=2.0.0 in /home/khiemlk17/anaconda3/envs/ml/lib/python3.7/site-packages (from requests<3,>=2.21.0->tensorboard->salina==1.0) (2.0.12)\n",
            "Requirement already satisfied: idna<4,>=2.5 in /home/khiemlk17/anaconda3/envs/ml/lib/python3.7/site-packages (from requests<3,>=2.21.0->tensorboard->salina==1.0) (3.3)\n",
            "Requirement already satisfied: urllib3<1.27,>=1.21.1 in /home/khiemlk17/anaconda3/envs/ml/lib/python3.7/site-packages (from requests<3,>=2.21.0->tensorboard->salina==1.0) (1.26.8)\n",
            "Requirement already satisfied: pyasn1<0.5.0,>=0.4.6 in /home/khiemlk17/anaconda3/envs/ml/lib/python3.7/site-packages (from pyasn1-modules>=0.2.1->google-auth<3,>=1.6.3->tensorboard->salina==1.0) (0.4.8)\n",
            "Requirement already satisfied: oauthlib>=3.0.0 in /home/khiemlk17/anaconda3/envs/ml/lib/python3.7/site-packages (from requests-oauthlib>=0.7.0->google-auth-oauthlib<0.5,>=0.4.1->tensorboard->salina==1.0) (3.2.0)\n",
            "Requirement already satisfied: mypy-extensions>=0.3.0 in /home/khiemlk17/anaconda3/envs/ml/lib/python3.7/site-packages (from typing-inspect->pyre-extensions==0.0.23->xformers>=0.0.3->salina==1.0) (0.4.3)\n",
            "Note: you may need to restart the kernel to use updated packages.\n",
            "Requirement already satisfied: pygame in /home/khiemlk17/anaconda3/envs/ml/lib/python3.7/site-packages (2.1.2)\n",
            "Note: you may need to restart the kernel to use updated packages.\n"
          ]
        }
      ],
      "source": [
        "import functools\n",
        "import time\n",
        "\n",
        "%pip install gym==0.21.0\n",
        "%pip install git+https://github.com/facebookresearch/salina.git@main\n",
        "%pip install pygame\n",
        "\n",
        "\n"
      ]
    },
    {
      "cell_type": "markdown",
      "metadata": {
        "id": "HQhDJ2YPgU9P"
      },
      "source": [
        "### Install our package:\n",
        "Our github repo is [here](https://github.com/Anidwyd/pandroide-svpg)"
      ]
    },
    {
      "cell_type": "code",
      "execution_count": 5,
      "metadata": {
        "colab": {
          "base_uri": "https://localhost:8080/"
        },
        "id": "-upNpw1geEzs",
        "outputId": "4eeaeafe-926f-4cfd-d1bb-01d5d2947e3f"
      },
      "outputs": [
        {
          "name": "stdout",
          "output_type": "stream",
          "text": [
            "Collecting git+https://github.com/Anidwyd/pandroide-svpg.git@main\n",
            "  Cloning https://github.com/Anidwyd/pandroide-svpg.git (to revision main) to /tmp/pip-req-build-mvgdx3fv\n",
            "  Running command git clone --filter=blob:none --quiet https://github.com/Anidwyd/pandroide-svpg.git /tmp/pip-req-build-mvgdx3fv\n",
            "  Resolved https://github.com/Anidwyd/pandroide-svpg.git to commit 181a857e687de70f958f90dee07f2035165b9d0f\n",
            "  Preparing metadata (setup.py) ... \u001b[?25ldone\n",
            "\u001b[?25hBuilding wheels for collected packages: svpg\n",
            "  Building wheel for svpg (setup.py) ... \u001b[?25ldone\n",
            "\u001b[?25h  Created wheel for svpg: filename=svpg-1.0.dev0+181a857e687de70f958f90dee07f2035165b9d0f-py3-none-any.whl size=18945 sha256=94d82ffd01a73f00b60420c25f224fffd36af41f857bbfc2f8a21ee51adb7696\n",
            "  Stored in directory: /tmp/pip-ephem-wheel-cache-oda9vdc6/wheels/51/50/c8/de3e463680b37a45484181746d89953c15bfa7a0c55976d26a\n",
            "Successfully built svpg\n",
            "Installing collected packages: svpg\n",
            "  Attempting uninstall: svpg\n",
            "    Found existing installation: svpg 0.0.0\n",
            "    Uninstalling svpg-0.0.0:\n",
            "      Successfully uninstalled svpg-0.0.0\n",
            "Successfully installed svpg-1.0.dev0+181a857e687de70f958f90dee07f2035165b9d0f\n",
            "Note: you may need to restart the kernel to use updated packages.\n"
          ]
        }
      ],
      "source": [
        "%pip install git+https://github.com/Anidwyd/pandroide-svpg.git@main"
      ]
    },
    {
      "cell_type": "code",
      "execution_count": 1,
      "metadata": {
        "id": "njq1FGxeg09f"
      },
      "outputs": [],
      "source": [
        "from svpg.algos.a2c.mono.main_loop import run_a2c"
      ]
    },
    {
      "cell_type": "markdown",
      "metadata": {
        "id": "EHWdBJq58wKC"
      },
      "source": [
        "### Helper function"
      ]
    },
    {
      "cell_type": "markdown",
      "metadata": {
        "id": "bDOCUQoP86Ue"
      },
      "source": [
        "[This function](https://github.com/Anidwyd/pandroide-svpg/blob/main/svpg/helpers/utils.py) is used below in the following piece of code later at the bottom of this colab:\n",
        "\n",
        "`# Compute A2C loss`\n",
        "\n",
        "`action_logp = _index(action_probs, action).log()`"
      ]
    },
    {
      "cell_type": "markdown",
      "metadata": {
        "id": "14gQa69xBRDR"
      },
      "source": [
        "It is used to transform the TxBxA action log probabilities matrix with a TxB index matrix to a TxB matrix where we have selected the log prob of the action taken by the agent."
      ]
    },
    {
      "cell_type": "markdown",
      "metadata": {
        "id": "JVvAfhKm9S8p"
      },
      "source": [
        "### Definition of agents"
      ]
    },
    {
      "cell_type": "markdown",
      "metadata": {
        "id": "RZ501AH0qlnl"
      },
      "source": [
        "All agents are defined [here](https://github.com/Anidwyd/pandroide-svpg/blob/main/svpg/algos/a2c/mono/agents.py)"
      ]
    },
    {
      "cell_type": "markdown",
      "metadata": {
        "id": "lU3cO6znHyDc"
      },
      "source": [
        "### The Logger class"
      ]
    },
    {
      "cell_type": "markdown",
      "metadata": {
        "id": "ngxXUft7qyzs"
      },
      "source": [
        "Using the logger provided by SaLiNa that in fact is TensorBoard under the hood.The code is [here](https://github.com/Anidwyd/pandroide-svpg/blob/main/svpg/helpers/logger.py)"
      ]
    },
    {
      "cell_type": "markdown",
      "metadata": {
        "id": "f2vq1OJHWCIE"
      },
      "source": [
        "### Setup the optimizers"
      ]
    },
    {
      "cell_type": "markdown",
      "metadata": {
        "id": "VzmEKF4J8qjg"
      },
      "source": [
        "We use a single optimizer to tune the parameters of the actor (in the prob_agent part) and the critic (in the critic_agent part). It would be possible to have two optimizers which would work separately on the parameters of each component agent, but it would be more complicated because updating the actor requires the gradient of the critic.\n",
        "The code is [here](https://github.com/Anidwyd/pandroide-svpg/blob/main/svpg/algos/a2c/mono/optimizer.py)"
      ]
    },
    {
      "cell_type": "markdown",
      "metadata": {
        "id": "YQNvhO_VAJbh"
      },
      "source": [
        "### Compute critic loss and a2c loss"
      ]
    },
    {
      "cell_type": "markdown",
      "metadata": {
        "id": "fxxobbxRaJXO"
      },
      "source": [
        "Note the `critic[1:].detach()` in the computation of the temporal difference target. The idea is that we compute this target as a function of $V(s_{t+1})$, but we do not want to apply gradient descent on this $V(s_{t+1})$, we will only apply gradient descent to the $V(s_t)$ according to this target value."
      ]
    },
    {
      "cell_type": "markdown",
      "metadata": {
        "id": "Ngf5NHvWBbrE"
      },
      "source": [
        "In practice, `x.detach()` detaches a computation graph from a tensor, so it avoids computing a gradient over this tensor."
      ]
    },
    {
      "cell_type": "markdown",
      "metadata": {
        "id": "fXwrjbueoDw6"
      },
      "source": [
        "Note also the trick to deal with terminal states. If the state is terminal, $V(s_{t+1})$ does not make sense. Thus we need to ignore this term. So we multiply the term by (1 - done): if done is False (=0), we get the term. If done is true (=1), we are at a terminal state and (1- done) = 0, so we ignore the term. This trick is used in many RL libraries, e.g. SB3."
      ]
    },
    {
      "cell_type": "markdown",
      "metadata": {
        "id": "7FrIZB2vrwN5"
      },
      "source": [
        "The code is [here](https://github.com/Anidwyd/pandroide-svpg/blob/main/svpg/algos/a2c/mono/loss.py)"
      ]
    },
    {
      "cell_type": "markdown",
      "metadata": {
        "id": "Jmi91gANWT4z"
      },
      "source": [
        "## Main training loop"
      ]
    },
    {
      "cell_type": "markdown",
      "metadata": {
        "id": "8ixFZeCRN6Y6"
      },
      "source": [
        "Note that everything about the shared workspace between all the agents is completely hidden under the hood. This results in a gain of productivity, at the expense of having to dig into the salina code if you want to understand the details, change the multiprocessing model, etc."
      ]
    },
    {
      "cell_type": "markdown",
      "metadata": {
        "id": "OFB1XFE5YEc6"
      },
      "source": [
        "Note that we `optimizer.zero_grad()`, `loss.backward()` and `optimizer.step()` lines. Several things need to be explained here.\n",
        "- `optimizer.zero_grad()` is necessary to cancel all the gradients computed at the previous iterations\n",
        "- note that we sum all the losses, both for the critic and the actor, before applying back-propagation with `loss.backward()`. At first glance, summing these losses may look weird, as the actor and the critic receive different updates with different parts of the loss. This mechanism relies on the central property of tensor manipulation libraries like TensorFlow and pytorch. In pytorch, each loss tensor comes with its own graph of computation for back-propagating the gradient, in such a way that when you back-propagate the loss, the adequate part of the loss is applied to the adequate parameters.\n",
        "These mechanisms are partly explained [here](https://pytorch.org/tutorials/beginner/blitz/neural_networks_tutorial.html).\n",
        "- since the optimizer has been set to work with both the actor and critic parameters, `optimizer.step()` will optimize both agents and pytorch ensure that each will receive its own part of the gradient."
      ]
    },
    {
      "cell_type": "markdown",
      "metadata": {
        "id": "BGI6ghGRr5J0"
      },
      "source": [
        "The code for the main training loop is [here](https://github.com/Anidwyd/pandroide-svpg/blob/main/svpg/algos/a2c/mono/run_a2c.py)"
      ]
    },
    {
      "cell_type": "markdown",
      "metadata": {
        "id": "uo6bc3zzKua_"
      },
      "source": [
        "## Definition of the parameters"
      ]
    },
    {
      "cell_type": "markdown",
      "metadata": {
        "id": "36r4PAfvKx-f"
      },
      "source": [
        "The logger is defined as `salina.logger.TFLogger` so as to use a tensorboard visualisation."
      ]
    },
    {
      "cell_type": "code",
      "execution_count": 2,
      "metadata": {
        "id": "JB2B8zELNWQd"
      },
      "outputs": [],
      "source": [
        "params={\n",
        "  \"logger\":{\n",
        "    \"classname\": \"salina.logger.TFLogger\",\n",
        "    \"log_dir\": \"./tmp\",\n",
        "    \"cache_size\": 10000,\n",
        "    \"every_n_seconds\": 10,\n",
        "    \"verbose\": False,    \n",
        "    },\n",
        "\n",
        "  \"algorithm\":{\n",
        "    \"env_seed\": 432,\n",
        "    \"n_envs\": 8,\n",
        "    \"n_timesteps\": 16,\n",
        "    \"max_epochs\": 10000,\n",
        "    \"discount_factor\": 0.95,\n",
        "    \"entropy_coef\": 0.001,\n",
        "    \"critic_coef\": 1.0,\n",
        "    \"a2c_coef\": 0.1,\n",
        "    \"architecture\":{\"hidden_size\": 32},\n",
        "    \"env\":{\n",
        "      \"classname\": \"svpg.algos.a2c.mono.agents.make_env\",\n",
        "      \"env_name\": \"CartPole-v1\",\n",
        "      \"max_episode_steps\": 500,\n",
        "    },\n",
        "    \"optimizer\":\n",
        "    {\n",
        "      \"classname\": \"torch.optim.Adam\",\n",
        "      \"lr\": 0.01,\n",
        "    }\n",
        "  }\n",
        "}"
      ]
    },
    {
      "cell_type": "markdown",
      "metadata": {
        "id": "jp7jDeGkaoM1"
      },
      "source": [
        "### Launching tensorboard to visualize the results"
      ]
    },
    {
      "cell_type": "code",
      "execution_count": 3,
      "metadata": {
        "colab": {
          "base_uri": "https://localhost:8080/",
          "height": 368
        },
        "id": "l42OUoGROlSt",
        "outputId": "2596f238-78f7-42aa-92d3-88bc33c77e14"
      },
      "outputs": [
        {
          "data": {
            "text/plain": [
              "Reusing TensorBoard on port 6006 (pid 15024), started 0:01:21 ago. (Use '!kill 15024' to kill it.)"
            ]
          },
          "metadata": {},
          "output_type": "display_data"
        },
        {
          "data": {
            "text/html": [
              "\n",
              "      <iframe id=\"tensorboard-frame-b62a090fdbb6c2c4\" width=\"100%\" height=\"800\" frameborder=\"0\">\n",
              "      </iframe>\n",
              "      <script>\n",
              "        (function() {\n",
              "          const frame = document.getElementById(\"tensorboard-frame-b62a090fdbb6c2c4\");\n",
              "          const url = new URL(\"http://localhost\");\n",
              "          const port = 6006;\n",
              "          if (port) {\n",
              "            url.port = port;\n",
              "          }\n",
              "          frame.src = url;\n",
              "        })();\n",
              "      </script>\n",
              "    "
            ],
            "text/plain": [
              "<IPython.core.display.HTML object>"
            ]
          },
          "metadata": {},
          "output_type": "display_data"
        }
      ],
      "source": [
        "%load_ext tensorboard\n",
        "%tensorboard --logdir ./tmp\n",
        "from omegaconf import OmegaConf\n",
        "config = OmegaConf.create(params)\n",
        "run_a2c(config)"
      ]
    },
    {
      "cell_type": "code",
      "execution_count": null,
      "metadata": {
        "id": "mBnczbcUth6R"
      },
      "outputs": [],
      "source": []
    }
  ],
  "metadata": {
    "colab": {
      "collapsed_sections": [],
      "name": "A2C_SALINA.ipynb",
      "provenance": []
    },
    "kernelspec": {
      "display_name": "Python 3",
      "name": "python3"
    },
    "language_info": {
      "codemirror_mode": {
        "name": "ipython",
        "version": 3
      },
      "file_extension": ".py",
      "mimetype": "text/x-python",
      "name": "python",
      "nbconvert_exporter": "python",
      "pygments_lexer": "ipython3",
      "version": "3.7.11"
    }
  },
  "nbformat": 4,
  "nbformat_minor": 0
}
