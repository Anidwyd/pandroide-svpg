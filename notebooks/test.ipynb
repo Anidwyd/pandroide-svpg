{
 "cells": [
  {
   "cell_type": "code",
   "execution_count": 6,
   "metadata": {},
   "outputs": [],
   "source": [
    "from itertools import permutations"
   ]
  },
  {
   "cell_type": "code",
   "execution_count": 7,
   "metadata": {},
   "outputs": [
    {
     "name": "stdout",
     "output_type": "stream",
     "text": [
      "0 1\n",
      "0 2\n",
      "0 3\n",
      "1 0\n",
      "1 2\n",
      "1 3\n",
      "2 0\n",
      "2 1\n",
      "2 3\n",
      "3 0\n",
      "3 1\n",
      "3 2\n"
     ]
    }
   ],
   "source": [
    "for i,j in list(permutations(range(4), 2)):\n",
    "    print(i,j)"
   ]
  },
  {
   "cell_type": "code",
   "execution_count": 1,
   "metadata": {},
   "outputs": [],
   "source": [
    "import torch as th\n",
    "import torch.nn as nn\n",
    "from torch.nn.utils import parameters_to_vector"
   ]
  },
  {
   "cell_type": "code",
   "execution_count": 13,
   "metadata": {},
   "outputs": [
    {
     "data": {
      "text/plain": [
       "[Parameter containing:\n",
       " tensor([[-0.1449, -0.4023],\n",
       "         [ 0.1169, -0.4974],\n",
       "         [-0.4563, -0.1452]], requires_grad=True),\n",
       " Parameter containing:\n",
       " tensor([-0.5411,  0.2825,  0.2986], requires_grad=True),\n",
       " Parameter containing:\n",
       " tensor([[0.4828, 0.2428, 0.3273]], requires_grad=True),\n",
       " Parameter containing:\n",
       " tensor([-0.0014], requires_grad=True)]"
      ]
     },
     "execution_count": 13,
     "metadata": {},
     "output_type": "execute_result"
    }
   ],
   "source": [
    "model = nn.Sequential(\n",
    "        nn.Linear(2, 3),\n",
    "        nn.ReLU(),\n",
    "        nn.Linear(3, 1)\n",
    "    )\n",
    "l = list(model.parameters())\n",
    "l"
   ]
  },
  {
   "cell_type": "code",
   "execution_count": 15,
   "metadata": {},
   "outputs": [
    {
     "data": {
      "text/plain": [
       "tensor([-0.1449, -0.4023,  0.1169, -0.4974, -0.4563, -0.1452, -0.5411,  0.2825,\n",
       "         0.2986,  0.4828,  0.2428,  0.3273, -0.0014], grad_fn=<CatBackward0>)"
      ]
     },
     "execution_count": 15,
     "metadata": {},
     "output_type": "execute_result"
    }
   ],
   "source": [
    "\n",
    "l_flatten = [th.flatten(p) for p in l]\n",
    "l_flatten = tuple(l_flatten)\n",
    "l_concat = th.cat(l_flatten)\n",
    "l_concat"
   ]
  },
  {
   "cell_type": "code",
   "execution_count": 16,
   "metadata": {},
   "outputs": [
    {
     "data": {
      "text/plain": [
       "tensor([-0.1449, -0.4023,  0.1169, -0.4974, -0.4563, -0.1452, -0.5411,  0.2825,\n",
       "         0.2986,  0.4828,  0.2428,  0.3273, -0.0014], grad_fn=<CatBackward0>)"
      ]
     },
     "execution_count": 16,
     "metadata": {},
     "output_type": "execute_result"
    }
   ],
   "source": [
    "parameters_to_vector(model.parameters())"
   ]
  },
  {
   "cell_type": "code",
   "execution_count": 7,
   "metadata": {},
   "outputs": [],
   "source": [
    "params = {\n",
    "    \"logger\": {\n",
    "        \"classname\": \"salina.logger.TFLogger\",\n",
    "        \"log_dir\": \"./tmp\",\n",
    "        \"every_n_seconds\": 10000,\n",
    "        \"modulo\": 1,\n",
    "        \"verbose\": True\n",
    "    },\n",
    "\n",
    "    \"algorithm\": {\n",
    "        \"env_seed\": 432,\n",
    "        \"n_envs\": 8,\n",
    "        \"n_timesteps\": 16,\n",
    "        \"n_particles\": 2,\n",
    "        \"max_epochs\": 100,\n",
    "        \"discount_factor\": 0.95,\n",
    "        \"entropy_coef\": 0.001,\n",
    "        \"critic_coef\": 1.0,\n",
    "        \"policy_coef\": 0.1,\n",
    "\n",
    "        \"architecture\": {\"hidden_size\": 32},\n",
    "        \n",
    "        \"env\": {\n",
    "            \"classname\": \"svpg.agents.env.make_env\",\n",
    "            \"env_name\": \"CartPole-v1\",\n",
    "            \"max_episode_steps\": 100\n",
    "        },\n",
    "\n",
    "        \"optimizer\": {\n",
    "            \"classname\": \"torch.optim.Adam\",\n",
    "            \"lr\": 0.01\n",
    "        }\n",
    "    },\n",
    "}"
   ]
  },
  {
   "cell_type": "code",
   "execution_count": 3,
   "metadata": {},
   "outputs": [
    {
     "name": "stdout",
     "output_type": "stream",
     "text": [
      "Collecting git+https://github.com/Anidwyd/pandroide-svpg.git@main\n",
      "  Cloning https://github.com/Anidwyd/pandroide-svpg.git (to revision main) to /tmp/pip-req-build-8jke1zwc\n",
      "  Running command git clone --filter=blob:none --quiet https://github.com/Anidwyd/pandroide-svpg.git /tmp/pip-req-build-8jke1zwc\n",
      "  Resolved https://github.com/Anidwyd/pandroide-svpg.git to commit 2d78850fd41c123909e95c85e35da1afe511e2d6\n",
      "  Preparing metadata (setup.py) ... \u001b[?25ldone\n",
      "\u001b[?25hCollecting salina@ git+https://github.com/facebookresearch/salina.git@main\n",
      "  Cloning https://github.com/facebookresearch/salina.git (to revision main) to /tmp/pip-install-gdi6m82c/salina_0c7329054fdb4ae09f599a996ddb2099\n",
      "  Running command git clone --filter=blob:none --quiet https://github.com/facebookresearch/salina.git /tmp/pip-install-gdi6m82c/salina_0c7329054fdb4ae09f599a996ddb2099\n",
      "  Resolved https://github.com/facebookresearch/salina.git to commit 481e96e8b647399175cfe29313eaa64a5cea6013\n",
      "  Preparing metadata (setup.py) ... \u001b[?25ldone\n",
      "\u001b[?25hCollecting rllab@ git+https://github.com/rll/rllab.git@master\n",
      "  Cloning https://github.com/rll/rllab.git (to revision master) to /tmp/pip-install-gdi6m82c/rllab_deac6d47cfd146149633d201ae0220c5\n",
      "  Running command git clone --filter=blob:none --quiet https://github.com/rll/rllab.git /tmp/pip-install-gdi6m82c/rllab_deac6d47cfd146149633d201ae0220c5\n",
      "  Resolved https://github.com/rll/rllab.git to commit ba78e4c16dc492982e648f117875b22af3965579\n",
      "  Preparing metadata (setup.py) ... \u001b[?25ldone\n",
      "\u001b[?25hRequirement already satisfied: gym==0.21.0 in /home/khiemlk17/anaconda3/envs/ml/lib/python3.7/site-packages (from svpg==1.0.dev0+2d78850fd41c123909e95c85e35da1afe511e2d6) (0.21.0)\n",
      "Requirement already satisfied: matplotlib in /home/khiemlk17/anaconda3/envs/ml/lib/python3.7/site-packages (from svpg==1.0.dev0+2d78850fd41c123909e95c85e35da1afe511e2d6) (2.2.2)\n",
      "Requirement already satisfied: pygame in /home/khiemlk17/anaconda3/envs/ml/lib/python3.7/site-packages (from svpg==1.0.dev0+2d78850fd41c123909e95c85e35da1afe511e2d6) (2.0.3)\n",
      "Requirement already satisfied: scipy in /home/khiemlk17/anaconda3/envs/ml/lib/python3.7/site-packages (from svpg==1.0.dev0+2d78850fd41c123909e95c85e35da1afe511e2d6) (1.7.3)\n",
      "Requirement already satisfied: path.py in /home/khiemlk17/anaconda3/envs/ml/lib/python3.7/site-packages (from svpg==1.0.dev0+2d78850fd41c123909e95c85e35da1afe511e2d6) (12.5.0)\n",
      "Requirement already satisfied: python-dateutil in /home/khiemlk17/anaconda3/envs/ml/lib/python3.7/site-packages (from svpg==1.0.dev0+2d78850fd41c123909e95c85e35da1afe511e2d6) (2.8.2)\n",
      "Requirement already satisfied: joblib==0.10.3 in /home/khiemlk17/anaconda3/envs/ml/lib/python3.7/site-packages (from svpg==1.0.dev0+2d78850fd41c123909e95c85e35da1afe511e2d6) (0.10.3)\n",
      "Requirement already satisfied: mako in /home/khiemlk17/anaconda3/envs/ml/lib/python3.7/site-packages (from svpg==1.0.dev0+2d78850fd41c123909e95c85e35da1afe511e2d6) (1.2.0)\n",
      "Requirement already satisfied: Box2D in /home/khiemlk17/anaconda3/envs/ml/lib/python3.7/site-packages (from svpg==1.0.dev0+2d78850fd41c123909e95c85e35da1afe511e2d6) (2.3.10)\n",
      "Requirement already satisfied: theano in /home/khiemlk17/anaconda3/envs/ml/lib/python3.7/site-packages (from svpg==1.0.dev0+2d78850fd41c123909e95c85e35da1afe511e2d6) (1.0.4)\n",
      "Requirement already satisfied: cloudpickle>=1.2.0 in /home/khiemlk17/anaconda3/envs/ml/lib/python3.7/site-packages (from gym==0.21.0->svpg==1.0.dev0+2d78850fd41c123909e95c85e35da1afe511e2d6) (1.6.0)\n",
      "Requirement already satisfied: importlib-metadata>=4.8.1 in /home/khiemlk17/anaconda3/envs/ml/lib/python3.7/site-packages (from gym==0.21.0->svpg==1.0.dev0+2d78850fd41c123909e95c85e35da1afe511e2d6) (4.11.1)\n",
      "Requirement already satisfied: numpy>=1.18.0 in /home/khiemlk17/anaconda3/envs/ml/lib/python3.7/site-packages (from gym==0.21.0->svpg==1.0.dev0+2d78850fd41c123909e95c85e35da1afe511e2d6) (1.19.5)\n",
      "Requirement already satisfied: MarkupSafe>=0.9.2 in /home/khiemlk17/anaconda3/envs/ml/lib/python3.7/site-packages (from mako->svpg==1.0.dev0+2d78850fd41c123909e95c85e35da1afe511e2d6) (2.1.0)\n",
      "Requirement already satisfied: pytz in /home/khiemlk17/anaconda3/envs/ml/lib/python3.7/site-packages (from matplotlib->svpg==1.0.dev0+2d78850fd41c123909e95c85e35da1afe511e2d6) (2021.3)\n",
      "Requirement already satisfied: pyparsing!=2.0.4,!=2.1.2,!=2.1.6,>=2.0.1 in /home/khiemlk17/anaconda3/envs/ml/lib/python3.7/site-packages (from matplotlib->svpg==1.0.dev0+2d78850fd41c123909e95c85e35da1afe511e2d6) (3.0.7)\n",
      "Requirement already satisfied: six>=1.10 in /home/khiemlk17/anaconda3/envs/ml/lib/python3.7/site-packages (from matplotlib->svpg==1.0.dev0+2d78850fd41c123909e95c85e35da1afe511e2d6) (1.16.0)\n",
      "Requirement already satisfied: kiwisolver>=1.0.1 in /home/khiemlk17/anaconda3/envs/ml/lib/python3.7/site-packages (from matplotlib->svpg==1.0.dev0+2d78850fd41c123909e95c85e35da1afe511e2d6) (1.3.2)\n",
      "Requirement already satisfied: cycler>=0.10 in /home/khiemlk17/anaconda3/envs/ml/lib/python3.7/site-packages (from matplotlib->svpg==1.0.dev0+2d78850fd41c123909e95c85e35da1afe511e2d6) (0.11.0)\n",
      "Requirement already satisfied: path in /home/khiemlk17/anaconda3/envs/ml/lib/python3.7/site-packages (from path.py->svpg==1.0.dev0+2d78850fd41c123909e95c85e35da1afe511e2d6) (16.4.0)\n",
      "Requirement already satisfied: torch>=1.9.0 in /home/khiemlk17/anaconda3/envs/ml/lib/python3.7/site-packages (from salina@ git+https://github.com/facebookresearch/salina.git@main->svpg==1.0.dev0+2d78850fd41c123909e95c85e35da1afe511e2d6) (1.10.2)\n",
      "Requirement already satisfied: torchvision in /home/khiemlk17/anaconda3/envs/ml/lib/python3.7/site-packages (from salina@ git+https://github.com/facebookresearch/salina.git@main->svpg==1.0.dev0+2d78850fd41c123909e95c85e35da1afe511e2d6) (0.11.3)\n",
      "Requirement already satisfied: tensorboard in /home/khiemlk17/anaconda3/envs/ml/lib/python3.7/site-packages (from salina@ git+https://github.com/facebookresearch/salina.git@main->svpg==1.0.dev0+2d78850fd41c123909e95c85e35da1afe511e2d6) (2.8.0)\n",
      "Requirement already satisfied: tqdm in /home/khiemlk17/anaconda3/envs/ml/lib/python3.7/site-packages (from salina@ git+https://github.com/facebookresearch/salina.git@main->svpg==1.0.dev0+2d78850fd41c123909e95c85e35da1afe511e2d6) (4.62.3)\n",
      "Requirement already satisfied: hydra-core in /home/khiemlk17/anaconda3/envs/ml/lib/python3.7/site-packages (from salina@ git+https://github.com/facebookresearch/salina.git@main->svpg==1.0.dev0+2d78850fd41c123909e95c85e35da1afe511e2d6) (1.1.1)\n",
      "Requirement already satisfied: pandas in /home/khiemlk17/anaconda3/envs/ml/lib/python3.7/site-packages (from salina@ git+https://github.com/facebookresearch/salina.git@main->svpg==1.0.dev0+2d78850fd41c123909e95c85e35da1afe511e2d6) (1.3.5)\n",
      "Requirement already satisfied: opencv-python in /home/khiemlk17/anaconda3/envs/ml/lib/python3.7/site-packages (from salina@ git+https://github.com/facebookresearch/salina.git@main->svpg==1.0.dev0+2d78850fd41c123909e95c85e35da1afe511e2d6) (4.5.5.62)\n",
      "Requirement already satisfied: xformers>=0.0.3 in /home/khiemlk17/anaconda3/envs/ml/lib/python3.7/site-packages (from salina@ git+https://github.com/facebookresearch/salina.git@main->svpg==1.0.dev0+2d78850fd41c123909e95c85e35da1afe511e2d6) (0.0.8)\n",
      "Requirement already satisfied: typing-extensions>=3.6.4 in /home/khiemlk17/anaconda3/envs/ml/lib/python3.7/site-packages (from importlib-metadata>=4.8.1->gym==0.21.0->svpg==1.0.dev0+2d78850fd41c123909e95c85e35da1afe511e2d6) (4.1.1)\n",
      "Requirement already satisfied: zipp>=0.5 in /home/khiemlk17/anaconda3/envs/ml/lib/python3.7/site-packages (from importlib-metadata>=4.8.1->gym==0.21.0->svpg==1.0.dev0+2d78850fd41c123909e95c85e35da1afe511e2d6) (3.7.0)\n",
      "Requirement already satisfied: pyre-extensions==0.0.23 in /home/khiemlk17/anaconda3/envs/ml/lib/python3.7/site-packages (from xformers>=0.0.3->salina@ git+https://github.com/facebookresearch/salina.git@main->svpg==1.0.dev0+2d78850fd41c123909e95c85e35da1afe511e2d6) (0.0.23)\n",
      "Requirement already satisfied: typing-inspect in /home/khiemlk17/anaconda3/envs/ml/lib/python3.7/site-packages (from pyre-extensions==0.0.23->xformers>=0.0.3->salina@ git+https://github.com/facebookresearch/salina.git@main->svpg==1.0.dev0+2d78850fd41c123909e95c85e35da1afe511e2d6) (0.7.1)\n",
      "Requirement already satisfied: omegaconf==2.1.* in /home/khiemlk17/anaconda3/envs/ml/lib/python3.7/site-packages (from hydra-core->salina@ git+https://github.com/facebookresearch/salina.git@main->svpg==1.0.dev0+2d78850fd41c123909e95c85e35da1afe511e2d6) (2.1.1)\n",
      "Requirement already satisfied: antlr4-python3-runtime==4.8 in /home/khiemlk17/anaconda3/envs/ml/lib/python3.7/site-packages (from hydra-core->salina@ git+https://github.com/facebookresearch/salina.git@main->svpg==1.0.dev0+2d78850fd41c123909e95c85e35da1afe511e2d6) (4.8)\n",
      "Requirement already satisfied: importlib-resources in /home/khiemlk17/anaconda3/envs/ml/lib/python3.7/site-packages (from hydra-core->salina@ git+https://github.com/facebookresearch/salina.git@main->svpg==1.0.dev0+2d78850fd41c123909e95c85e35da1afe511e2d6) (5.4.0)\n",
      "Requirement already satisfied: PyYAML>=5.1.0 in /home/khiemlk17/anaconda3/envs/ml/lib/python3.7/site-packages (from omegaconf==2.1.*->hydra-core->salina@ git+https://github.com/facebookresearch/salina.git@main->svpg==1.0.dev0+2d78850fd41c123909e95c85e35da1afe511e2d6) (6.0)\n",
      "Requirement already satisfied: setuptools>=41.0.0 in /home/khiemlk17/anaconda3/envs/ml/lib/python3.7/site-packages (from tensorboard->salina@ git+https://github.com/facebookresearch/salina.git@main->svpg==1.0.dev0+2d78850fd41c123909e95c85e35da1afe511e2d6) (60.9.3)\n",
      "Requirement already satisfied: werkzeug>=0.11.15 in /home/khiemlk17/anaconda3/envs/ml/lib/python3.7/site-packages (from tensorboard->salina@ git+https://github.com/facebookresearch/salina.git@main->svpg==1.0.dev0+2d78850fd41c123909e95c85e35da1afe511e2d6) (2.0.3)\n",
      "Requirement already satisfied: wheel>=0.26 in /home/khiemlk17/anaconda3/envs/ml/lib/python3.7/site-packages (from tensorboard->salina@ git+https://github.com/facebookresearch/salina.git@main->svpg==1.0.dev0+2d78850fd41c123909e95c85e35da1afe511e2d6) (0.37.1)\n",
      "Requirement already satisfied: grpcio>=1.24.3 in /home/khiemlk17/anaconda3/envs/ml/lib/python3.7/site-packages (from tensorboard->salina@ git+https://github.com/facebookresearch/salina.git@main->svpg==1.0.dev0+2d78850fd41c123909e95c85e35da1afe511e2d6) (1.44.0)\n",
      "Requirement already satisfied: protobuf>=3.6.0 in /home/khiemlk17/anaconda3/envs/ml/lib/python3.7/site-packages (from tensorboard->salina@ git+https://github.com/facebookresearch/salina.git@main->svpg==1.0.dev0+2d78850fd41c123909e95c85e35da1afe511e2d6) (3.19.4)\n",
      "Requirement already satisfied: requests<3,>=2.21.0 in /home/khiemlk17/anaconda3/envs/ml/lib/python3.7/site-packages (from tensorboard->salina@ git+https://github.com/facebookresearch/salina.git@main->svpg==1.0.dev0+2d78850fd41c123909e95c85e35da1afe511e2d6) (2.27.1)\n",
      "Requirement already satisfied: tensorboard-data-server<0.7.0,>=0.6.0 in /home/khiemlk17/anaconda3/envs/ml/lib/python3.7/site-packages (from tensorboard->salina@ git+https://github.com/facebookresearch/salina.git@main->svpg==1.0.dev0+2d78850fd41c123909e95c85e35da1afe511e2d6) (0.6.0)\n",
      "Requirement already satisfied: markdown>=2.6.8 in /home/khiemlk17/anaconda3/envs/ml/lib/python3.7/site-packages (from tensorboard->salina@ git+https://github.com/facebookresearch/salina.git@main->svpg==1.0.dev0+2d78850fd41c123909e95c85e35da1afe511e2d6) (3.3.6)\n",
      "Requirement already satisfied: tensorboard-plugin-wit>=1.6.0 in /home/khiemlk17/anaconda3/envs/ml/lib/python3.7/site-packages (from tensorboard->salina@ git+https://github.com/facebookresearch/salina.git@main->svpg==1.0.dev0+2d78850fd41c123909e95c85e35da1afe511e2d6) (1.8.1)\n",
      "Requirement already satisfied: absl-py>=0.4 in /home/khiemlk17/anaconda3/envs/ml/lib/python3.7/site-packages (from tensorboard->salina@ git+https://github.com/facebookresearch/salina.git@main->svpg==1.0.dev0+2d78850fd41c123909e95c85e35da1afe511e2d6) (1.0.0)\n",
      "Requirement already satisfied: google-auth<3,>=1.6.3 in /home/khiemlk17/anaconda3/envs/ml/lib/python3.7/site-packages (from tensorboard->salina@ git+https://github.com/facebookresearch/salina.git@main->svpg==1.0.dev0+2d78850fd41c123909e95c85e35da1afe511e2d6) (2.6.0)\n",
      "Requirement already satisfied: google-auth-oauthlib<0.5,>=0.4.1 in /home/khiemlk17/anaconda3/envs/ml/lib/python3.7/site-packages (from tensorboard->salina@ git+https://github.com/facebookresearch/salina.git@main->svpg==1.0.dev0+2d78850fd41c123909e95c85e35da1afe511e2d6) (0.4.6)\n",
      "Requirement already satisfied: pillow!=8.3.0,>=5.3.0 in /home/khiemlk17/anaconda3/envs/ml/lib/python3.7/site-packages (from torchvision->salina@ git+https://github.com/facebookresearch/salina.git@main->svpg==1.0.dev0+2d78850fd41c123909e95c85e35da1afe511e2d6) (8.2.0)\n",
      "Requirement already satisfied: rsa<5,>=3.1.4 in /home/khiemlk17/anaconda3/envs/ml/lib/python3.7/site-packages (from google-auth<3,>=1.6.3->tensorboard->salina@ git+https://github.com/facebookresearch/salina.git@main->svpg==1.0.dev0+2d78850fd41c123909e95c85e35da1afe511e2d6) (4.8)\n",
      "Requirement already satisfied: cachetools<6.0,>=2.0.0 in /home/khiemlk17/anaconda3/envs/ml/lib/python3.7/site-packages (from google-auth<3,>=1.6.3->tensorboard->salina@ git+https://github.com/facebookresearch/salina.git@main->svpg==1.0.dev0+2d78850fd41c123909e95c85e35da1afe511e2d6) (5.0.0)\n",
      "Requirement already satisfied: pyasn1-modules>=0.2.1 in /home/khiemlk17/anaconda3/envs/ml/lib/python3.7/site-packages (from google-auth<3,>=1.6.3->tensorboard->salina@ git+https://github.com/facebookresearch/salina.git@main->svpg==1.0.dev0+2d78850fd41c123909e95c85e35da1afe511e2d6) (0.2.7)\n",
      "Requirement already satisfied: requests-oauthlib>=0.7.0 in /home/khiemlk17/anaconda3/envs/ml/lib/python3.7/site-packages (from google-auth-oauthlib<0.5,>=0.4.1->tensorboard->salina@ git+https://github.com/facebookresearch/salina.git@main->svpg==1.0.dev0+2d78850fd41c123909e95c85e35da1afe511e2d6) (1.3.1)\n",
      "Requirement already satisfied: urllib3<1.27,>=1.21.1 in /home/khiemlk17/anaconda3/envs/ml/lib/python3.7/site-packages (from requests<3,>=2.21.0->tensorboard->salina@ git+https://github.com/facebookresearch/salina.git@main->svpg==1.0.dev0+2d78850fd41c123909e95c85e35da1afe511e2d6) (1.26.8)\n",
      "Requirement already satisfied: charset-normalizer~=2.0.0 in /home/khiemlk17/anaconda3/envs/ml/lib/python3.7/site-packages (from requests<3,>=2.21.0->tensorboard->salina@ git+https://github.com/facebookresearch/salina.git@main->svpg==1.0.dev0+2d78850fd41c123909e95c85e35da1afe511e2d6) (2.0.12)\n",
      "Requirement already satisfied: idna<4,>=2.5 in /home/khiemlk17/anaconda3/envs/ml/lib/python3.7/site-packages (from requests<3,>=2.21.0->tensorboard->salina@ git+https://github.com/facebookresearch/salina.git@main->svpg==1.0.dev0+2d78850fd41c123909e95c85e35da1afe511e2d6) (3.3)\n",
      "Requirement already satisfied: certifi>=2017.4.17 in /home/khiemlk17/anaconda3/envs/ml/lib/python3.7/site-packages (from requests<3,>=2.21.0->tensorboard->salina@ git+https://github.com/facebookresearch/salina.git@main->svpg==1.0.dev0+2d78850fd41c123909e95c85e35da1afe511e2d6) (2021.10.8)\n",
      "Requirement already satisfied: pyasn1<0.5.0,>=0.4.6 in /home/khiemlk17/anaconda3/envs/ml/lib/python3.7/site-packages (from pyasn1-modules>=0.2.1->google-auth<3,>=1.6.3->tensorboard->salina@ git+https://github.com/facebookresearch/salina.git@main->svpg==1.0.dev0+2d78850fd41c123909e95c85e35da1afe511e2d6) (0.4.8)\n",
      "Requirement already satisfied: oauthlib>=3.0.0 in /home/khiemlk17/anaconda3/envs/ml/lib/python3.7/site-packages (from requests-oauthlib>=0.7.0->google-auth-oauthlib<0.5,>=0.4.1->tensorboard->salina@ git+https://github.com/facebookresearch/salina.git@main->svpg==1.0.dev0+2d78850fd41c123909e95c85e35da1afe511e2d6) (3.2.0)\n",
      "Requirement already satisfied: mypy-extensions>=0.3.0 in /home/khiemlk17/anaconda3/envs/ml/lib/python3.7/site-packages (from typing-inspect->pyre-extensions==0.0.23->xformers>=0.0.3->salina@ git+https://github.com/facebookresearch/salina.git@main->svpg==1.0.dev0+2d78850fd41c123909e95c85e35da1afe511e2d6) (0.4.3)\n",
      "Building wheels for collected packages: svpg\n",
      "  Building wheel for svpg (setup.py) ... \u001b[?25ldone\n",
      "\u001b[?25h  Created wheel for svpg: filename=svpg-1.0.dev0+2d78850fd41c123909e95c85e35da1afe511e2d6-py3-none-any.whl size=19629 sha256=cfdfa52b107dc712a39f57e6c17b372e703a7948c724b6ffb5dc221ab91291ea\n",
      "  Stored in directory: /tmp/pip-ephem-wheel-cache-7sz43bcb/wheels/51/50/c8/de3e463680b37a45484181746d89953c15bfa7a0c55976d26a\n",
      "Successfully built svpg\n",
      "Installing collected packages: svpg\n",
      "  Attempting uninstall: svpg\n",
      "    Found existing installation: svpg 1.0.dev0+c01c7f38e8c74a0101d72dc9f9f2623a80abb4c5\n",
      "    Uninstalling svpg-1.0.dev0+c01c7f38e8c74a0101d72dc9f9f2623a80abb4c5:\n",
      "      Successfully uninstalled svpg-1.0.dev0+c01c7f38e8c74a0101d72dc9f9f2623a80abb4c5\n",
      "Successfully installed svpg-1.0.dev0+2d78850fd41c123909e95c85e35da1afe511e2d6\n",
      "Note: you may need to restart the kernel to use updated packages.\n"
     ]
    }
   ],
   "source": [
    "%pip install git+https://github.com/Anidwyd/pandroide-svpg.git@main"
   ]
  },
  {
   "cell_type": "code",
   "execution_count": null,
   "metadata": {},
   "outputs": [],
   "source": [
    "import sv"
   ]
  }
 ],
 "metadata": {
  "interpreter": {
   "hash": "89e649af5cc535be01307bbf28f6d989ed34956b91dbd298a04e0be1da293714"
  },
  "kernelspec": {
   "display_name": "Python 3.9.9 64-bit",
   "language": "python",
   "name": "python3"
  },
  "language_info": {
   "codemirror_mode": {
    "name": "ipython",
    "version": 3
   },
   "file_extension": ".py",
   "mimetype": "text/x-python",
   "name": "python",
   "nbconvert_exporter": "python",
   "pygments_lexer": "ipython3",
   "version": "3.7.11"
  },
  "orig_nbformat": 4
 },
 "nbformat": 4,
 "nbformat_minor": 2
}
