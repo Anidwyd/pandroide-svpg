{
 "cells": [
  {
   "cell_type": "code",
   "execution_count": 1,
   "metadata": {},
   "outputs": [
    {
     "name": "stdout",
     "output_type": "stream",
     "text": [
      "Collecting git+https://github.com/Anidwyd/pandroide-svpg.git@main\n",
      "  Cloning https://github.com/Anidwyd/pandroide-svpg.git (to revision main) to /tmp/pip-req-build-lv5dx9vo\n",
      "  Running command git clone --filter=blob:none --quiet https://github.com/Anidwyd/pandroide-svpg.git /tmp/pip-req-build-lv5dx9vo\n",
      "  Resolved https://github.com/Anidwyd/pandroide-svpg.git to commit 5ac5a47f0449507e62c316e867a5e94660710189\n",
      "  Preparing metadata (setup.py) ... \u001b[?25ldone\n",
      "\u001b[?25hBuilding wheels for collected packages: svpg\n",
      "  Building wheel for svpg (setup.py) ... \u001b[?25ldone\n",
      "\u001b[?25h  Created wheel for svpg: filename=svpg-1.0.dev0+5ac5a47f0449507e62c316e867a5e94660710189-py3-none-any.whl size=14419 sha256=30095b27ac6b7e0c91f022991a43f1834f68a0553ce07fe7c9fd365e7991a072\n",
      "  Stored in directory: /tmp/pip-ephem-wheel-cache-_tlsatby/wheels/51/50/c8/de3e463680b37a45484181746d89953c15bfa7a0c55976d26a\n",
      "Successfully built svpg\n",
      "Installing collected packages: svpg\n",
      "  Attempting uninstall: svpg\n",
      "    Found existing installation: svpg 1.0.dev0+181a857e687de70f958f90dee07f2035165b9d0f\n",
      "    Uninstalling svpg-1.0.dev0+181a857e687de70f958f90dee07f2035165b9d0f:\n",
      "      Successfully uninstalled svpg-1.0.dev0+181a857e687de70f958f90dee07f2035165b9d0f\n",
      "Successfully installed svpg-1.0.dev0+5ac5a47f0449507e62c316e867a5e94660710189\n",
      "Note: you may need to restart the kernel to use updated packages.\n"
     ]
    }
   ],
   "source": [
    "%pip install git+https://github.com/Anidwyd/pandroide-svpg.git@main"
   ]
  },
  {
   "cell_type": "code",
   "execution_count": null,
   "metadata": {},
   "outputs": [],
   "source": [
    "from svpg.svpg_mono_cpu.main"
   ]
  }
 ],
 "metadata": {
  "interpreter": {
   "hash": "844be12b3cb3c3029260a62c81ea7c4b4e94f45ac5dd5252fca71d8570bc4e91"
  },
  "kernelspec": {
   "display_name": "Python 3.7.11 ('ml')",
   "language": "python",
   "name": "python3"
  },
  "language_info": {
   "codemirror_mode": {
    "name": "ipython",
    "version": 3
   },
   "file_extension": ".py",
   "mimetype": "text/x-python",
   "name": "python",
   "nbconvert_exporter": "python",
   "pygments_lexer": "ipython3",
   "version": "3.7.11"
  },
  "orig_nbformat": 4
 },
 "nbformat": 4,
 "nbformat_minor": 2
}
